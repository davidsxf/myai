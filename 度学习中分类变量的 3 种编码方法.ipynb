{
 "cells": [
  {
   "cell_type": "markdown",
   "metadata": {},
   "source": [
    "https://machinelearningmastery.com/how-to-prepare-categorical-data-for-deep-learning-in-python/\n",
    "\n",
    "### 乳腺癌分类数据集\n",
    "作为本教程的基础，我们将使用自 20 世纪 80 年代以来在机器学习中被广泛研究的所谓“乳腺癌”数据集。\n",
    "\n",
    "该数据集将乳腺癌患者数据分类为癌症复发或未复发。有 286 个示例和 9 个输入变量。这是一个二元分类问题。\n",
    "\n",
    "该数据集的合理分类准确率得分在 68% 到 73% 之间。我们将瞄准这个区域，但请注意，本教程中的模型并未经过优化：它们旨在演示编码方案。\n",
    "\n",
    "您可以下载数据集并将文件保存为当前工作目录中的“ breast-cancer.csv ”。\n",
    "\n",
    "乳腺癌数据集（breast-cancer.csv）\n",
    "查看数据，我们可以看到所有九个输入变量都是分类的。\n",
    "\n",
    "具体来说，所有变量都是用引号括起来的字符串；有些是序数的，有些则不是。"
   ]
  },
  {
   "cell_type": "code",
   "execution_count": 7,
   "metadata": {},
   "outputs": [],
   "source": [
    "import pandas as pd\n",
    "# load the dataset\n",
    "def load_dataset(filename):\n",
    " # load the dataset as a pandas DataFrame\n",
    " data = pd.read_csv(filename, header=None)\n",
    " # retrieve numpy array\n",
    " dataset = data.values\n",
    " # split into input (X) and output (y) variables\n",
    " X = dataset[:, :-1]\n",
    " y = dataset[:, -1]\n",
    " # format all fields as string\n",
    " X = X.astype(str)\n",
    " # reshape target to be a 2d array\n",
    " y = y.reshape((len(y), 1))\n",
    " return X, y\n"
   ]
  },
  {
   "cell_type": "code",
   "execution_count": 8,
   "metadata": {},
   "outputs": [
    {
     "ename": "NameError",
     "evalue": "name 'train_test_split' is not defined",
     "output_type": "error",
     "traceback": [
      "\u001b[1;31m---------------------------------------------------------------------------\u001b[0m",
      "\u001b[1;31mNameError\u001b[0m                                 Traceback (most recent call last)",
      "Cell \u001b[1;32mIn[8], line 5\u001b[0m\n\u001b[0;32m      3\u001b[0m X, y \u001b[39m=\u001b[39m load_dataset(\u001b[39m'\u001b[39m\u001b[39m../data/breast-cancer.csv\u001b[39m\u001b[39m'\u001b[39m)\n\u001b[0;32m      4\u001b[0m \u001b[39m# split into train and test sets\u001b[39;00m\n\u001b[1;32m----> 5\u001b[0m X_train, X_test, y_train, y_test \u001b[39m=\u001b[39m train_test_split(\n\u001b[0;32m      6\u001b[0m     X, y, test_size\u001b[39m=\u001b[39m\u001b[39m0.33\u001b[39m, random_state\u001b[39m=\u001b[39m\u001b[39m1\u001b[39m)\n",
      "\u001b[1;31mNameError\u001b[0m: name 'train_test_split' is not defined"
     ]
    }
   ],
   "source": [
    "\n",
    "# example of one hot encoding for a neural network\n",
    "from pandas import read_csv\n",
    "from sklearn.model_selection import train_test_split\n",
    "from sklearn.preprocessing import LabelEncoder\n",
    "from sklearn.preprocessing import OneHotEncoder\n",
    "from keras.models import Sequential\n",
    "from keras.layers import Dense\n",
    "\n",
    "# load the dataset\n",
    "\n",
    "\n",
    "def load_dataset(filename):\n",
    " # load the dataset as a pandas DataFrame\n",
    " data = read_csv(filename, header=None)\n",
    " # retrieve numpy array\n",
    " dataset = data.values\n",
    " # split into input (X) and output (y) variables\n",
    " X = dataset[:, :-1]\n",
    " y = dataset[:, -1]\n",
    " # format all fields as string\n",
    " X = X.astype(str)\n",
    " # reshape target to be a 2d array\n",
    " y = y.reshape((len(y), 1))\n",
    " return X, y\n",
    "\n",
    "# prepare input data\n",
    "\n",
    "\n",
    "def prepare_inputs(X_train, X_test):\n",
    " ohe = OneHotEncoder()\n",
    " ohe.fit(X_train)\n",
    " X_train_enc = ohe.transform(X_train)\n",
    " X_test_enc = ohe.transform(X_test)\n",
    " return X_train_enc, X_test_enc\n",
    "\n",
    "# prepare target\n",
    "\n",
    "\n",
    "def prepare_targets(y_train, y_test):\n",
    " le = LabelEncoder()\n",
    " le.fit(y_train)\n",
    " y_train_enc = le.transform(y_train)\n",
    " y_test_enc = le.transform(y_test)\n",
    " return y_train_enc, y_test_enc\n",
    "\n",
    "\n",
    "# load the dataset\n",
    "X, y = load_dataset('breast-cancer.csv')\n",
    "# split into train and test sets\n",
    "X_train, X_test, y_train, y_test = train_test_split(\n",
    "    X, y, test_size=0.33, random_state=1)\n",
    "# prepare input data\n",
    "X_train_enc, X_test_enc = prepare_inputs(X_train, X_test)\n",
    "# prepare output data\n",
    "y_train_enc, y_test_enc = prepare_targets(y_train, y_test)\n",
    "# define the  model\n",
    "model = Sequential()\n",
    "model.add(Dense(\n",
    "    10, input_dim=X_train_enc.shape[1], activation='relu', kernel_initializer='he_normal'))\n",
    "model.add(Dense(1, activation='sigmoid'))\n",
    "# compile the keras model\n",
    "model.compile(loss='binary_crossentropy',\n",
    "              optimizer='adam', metrics=['accuracy'])\n",
    "# fit the keras model on the dataset\n",
    "model.fit(X_train_enc, y_train_enc, epochs=100, batch_size=16, verbose=2)\n",
    "# evaluate the keras model\n",
    "_, accuracy = model.evaluate(X_test_enc, y_test_enc, verbose=0)\n",
    "print('Accuracy: %.2f' % (accuracy*100))\n"
   ]
  },
  {
   "cell_type": "markdown",
   "metadata": {},
   "source": []
  }
 ],
 "metadata": {
  "kernelspec": {
   "display_name": "Python 3.11.8 ('ai')",
   "language": "python",
   "name": "python3"
  },
  "language_info": {
   "codemirror_mode": {
    "name": "ipython",
    "version": 3
   },
   "file_extension": ".py",
   "mimetype": "text/x-python",
   "name": "python",
   "nbconvert_exporter": "python",
   "pygments_lexer": "ipython3",
   "version": "3.11.8"
  },
  "orig_nbformat": 4,
  "vscode": {
   "interpreter": {
    "hash": "16b5ba8b0fc2955b30e9dcc40d80a15055b56bf6ee36ea534159a7d87da288cf"
   }
  }
 },
 "nbformat": 4,
 "nbformat_minor": 2
}
