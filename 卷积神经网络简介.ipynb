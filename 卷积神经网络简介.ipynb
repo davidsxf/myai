{
 "cells": [
  {
   "cell_type": "markdown",
   "metadata": {},
   "source": [
    "https://www.analyticsvidhya.com/blog/2016/04/deep-learning-computer-vision-introduction-convolution-neural-networks/"
   ]
  },
  {
   "cell_type": "markdown",
   "metadata": {},
   "source": [
    "import pandas as pd \n",
    "import numpy as np \n",
    "import cPickle "
   ]
  },
  {
   "cell_type": "markdown",
   "metadata": {},
   "source": []
  },
  {
   "cell_type": "code",
   "execution_count": 4,
   "metadata": {},
   "outputs": [],
   "source": [
    "import pandas as pd\n",
    "import numpy as np\n",
    "# import cPickle\n",
    "import _pickle as cPickle\n"
   ]
  },
  {
   "cell_type": "code",
   "execution_count": 8,
   "metadata": {},
   "outputs": [],
   "source": [
    "# 定义一个函数将每个批次加载为字典：\n",
    "def unpickle(file):\n",
    "    fo = open(file, 'rb')\n",
    "    # dict = cPickle.load(fo)\n",
    "    dict = cPickle.load(fo, encoding='latin1')\n",
    "\n",
    "    fo.close()\n",
    "    return dict\n"
   ]
  },
  {
   "cell_type": "code",
   "execution_count": 9,
   "metadata": {},
   "outputs": [],
   "source": [
    "# 通过调用上述函数创建字典：\n",
    "batch1 = unpickle('../data/cifar-10-python/data_batch_1')\n",
    "batch2 = unpickle('../data/cifar-10-python/data_batch_2')\n",
    "batch3 = unpickle('../data/cifar-10-python/data_batch_3')\n",
    "batch4 = unpickle('../data/cifar-10-python/data_batch_4')\n",
    "batch5 = unpickle('../data/cifar-10-python/data_batch_5')\n",
    "batch_test = unpickle('../data/cifar-10-python/test_batch')\n"
   ]
  },
  {
   "cell_type": "code",
   "execution_count": 12,
   "metadata": {},
   "outputs": [],
   "source": [
    "# 定义一个函数将此字典转换为带有图像像素数组和标签的数据框：\n",
    "def get_dataframe(batch):\n",
    "    df = pd.DataFrame(batch['data'])\n",
    "    df['image'] = df.values.tolist()\n",
    "    df.drop(range(3072), axis=1, inplace=True)\n",
    "    df['label'] = batch['labels']\n",
    "    return df\n"
   ]
  },
  {
   "cell_type": "code",
   "execution_count": 13,
   "metadata": {},
   "outputs": [],
   "source": [
    "# 定义训练和测试文件：\n",
    "train = pd.concat([get_dataframe(batch1), get_dataframe(batch2), get_dataframe(\n",
    "    batch3), get_dataframe(batch4), get_dataframe(batch5)], ignore_index=True)\n",
    "test = get_dataframe(batch_test)\n"
   ]
  },
  {
   "cell_type": "code",
   "execution_count": 14,
   "metadata": {},
   "outputs": [
    {
     "data": {
      "text/html": [
       "<div>\n",
       "<style scoped>\n",
       "    .dataframe tbody tr th:only-of-type {\n",
       "        vertical-align: middle;\n",
       "    }\n",
       "\n",
       "    .dataframe tbody tr th {\n",
       "        vertical-align: top;\n",
       "    }\n",
       "\n",
       "    .dataframe thead th {\n",
       "        text-align: right;\n",
       "    }\n",
       "</style>\n",
       "<table border=\"1\" class=\"dataframe\">\n",
       "  <thead>\n",
       "    <tr style=\"text-align: right;\">\n",
       "      <th></th>\n",
       "      <th>image</th>\n",
       "      <th>label</th>\n",
       "    </tr>\n",
       "  </thead>\n",
       "  <tbody>\n",
       "    <tr>\n",
       "      <th>0</th>\n",
       "      <td>[59, 43, 50, 68, 98, 119, 139, 145, 149, 149, ...</td>\n",
       "      <td>6</td>\n",
       "    </tr>\n",
       "    <tr>\n",
       "      <th>1</th>\n",
       "      <td>[154, 126, 105, 102, 125, 155, 172, 180, 142, ...</td>\n",
       "      <td>9</td>\n",
       "    </tr>\n",
       "    <tr>\n",
       "      <th>2</th>\n",
       "      <td>[255, 253, 253, 253, 253, 253, 253, 253, 253, ...</td>\n",
       "      <td>9</td>\n",
       "    </tr>\n",
       "    <tr>\n",
       "      <th>3</th>\n",
       "      <td>[28, 37, 38, 42, 44, 40, 40, 24, 32, 43, 30, 3...</td>\n",
       "      <td>4</td>\n",
       "    </tr>\n",
       "    <tr>\n",
       "      <th>4</th>\n",
       "      <td>[170, 168, 177, 183, 181, 177, 181, 184, 189, ...</td>\n",
       "      <td>1</td>\n",
       "    </tr>\n",
       "  </tbody>\n",
       "</table>\n",
       "</div>"
      ],
      "text/plain": [
       "                                               image  label\n",
       "0  [59, 43, 50, 68, 98, 119, 139, 145, 149, 149, ...      6\n",
       "1  [154, 126, 105, 102, 125, 155, 172, 180, 142, ...      9\n",
       "2  [255, 253, 253, 253, 253, 253, 253, 253, 253, ...      9\n",
       "3  [28, 37, 38, 42, 44, 40, 40, 24, 32, 43, 30, 3...      4\n",
       "4  [170, 168, 177, 183, 181, 177, 181, 184, 189, ...      1"
      ]
     },
     "execution_count": 14,
     "metadata": {},
     "output_type": "execute_result"
    }
   ],
   "source": [
    "train.head()\n"
   ]
  },
  {
   "cell_type": "code",
   "execution_count": 15,
   "metadata": {},
   "outputs": [
    {
     "data": {
      "text/plain": [
       "((50000, 2), (10000, 2))"
      ]
     },
     "execution_count": 15,
     "metadata": {},
     "output_type": "execute_result"
    }
   ],
   "source": [
    "train.shape,test.shape"
   ]
  },
  {
   "cell_type": "code",
   "execution_count": 17,
   "metadata": {},
   "outputs": [
    {
     "name": "stdout",
     "output_type": "stream",
     "text": [
      "Looking in indexes: http://mirrors.aliyun.com/pypi/simple/\n"
     ]
    },
    {
     "name": "stderr",
     "output_type": "stream",
     "text": [
      "ERROR: Could not find a version that satisfies the requirement graphlab (from versions: none)\n",
      "ERROR: No matching distribution found for graphlab\n"
     ]
    }
   ],
   "source": [
    "!pip install graphlab\n"
   ]
  },
  {
   "cell_type": "code",
   "execution_count": 16,
   "metadata": {},
   "outputs": [
    {
     "ename": "ModuleNotFoundError",
     "evalue": "No module named 'graphlab'",
     "output_type": "error",
     "traceback": [
      "\u001b[1;31m---------------------------------------------------------------------------\u001b[0m",
      "\u001b[1;31mModuleNotFoundError\u001b[0m                       Traceback (most recent call last)",
      "Cell \u001b[1;32mIn[16], line 1\u001b[0m\n\u001b[1;32m----> 1\u001b[0m \u001b[39mimport\u001b[39;00m \u001b[39mgraphlab\u001b[39;00m \u001b[39mas\u001b[39;00m \u001b[39mgl\u001b[39;00m\n\u001b[0;32m      2\u001b[0m gltrain \u001b[39m=\u001b[39m gl\u001b[39m.\u001b[39mSFrame(train)\n\u001b[0;32m      3\u001b[0m gltest \u001b[39m=\u001b[39m gl\u001b[39m.\u001b[39mSFrame(test)\n",
      "\u001b[1;31mModuleNotFoundError\u001b[0m: No module named 'graphlab'"
     ]
    }
   ],
   "source": [
    "import graphlab as gl\n",
    "gltrain = gl.SFrame(train)\n",
    "gltest = gl.SFrame(test)\n"
   ]
  },
  {
   "cell_type": "code",
   "execution_count": null,
   "metadata": {},
   "outputs": [],
   "source": []
  }
 ],
 "metadata": {
  "kernelspec": {
   "display_name": "Python 3.11.8 ('ai')",
   "language": "python",
   "name": "python3"
  },
  "language_info": {
   "codemirror_mode": {
    "name": "ipython",
    "version": 3
   },
   "file_extension": ".py",
   "mimetype": "text/x-python",
   "name": "python",
   "nbconvert_exporter": "python",
   "pygments_lexer": "ipython3",
   "version": "3.11.8"
  },
  "orig_nbformat": 4,
  "vscode": {
   "interpreter": {
    "hash": "16b5ba8b0fc2955b30e9dcc40d80a15055b56bf6ee36ea534159a7d87da288cf"
   }
  }
 },
 "nbformat": 4,
 "nbformat_minor": 2
}
