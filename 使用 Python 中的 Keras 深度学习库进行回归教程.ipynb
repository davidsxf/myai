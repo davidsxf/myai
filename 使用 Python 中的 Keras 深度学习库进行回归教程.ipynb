{
 "cells": [
  {
   "cell_type": "markdown",
   "metadata": {},
   "source": [
    "https://machinelearningmastery.com/regression-tutorial-keras-deep-learning-library-python/\n",
    "\n",
    "https://machinelearningmastery.com/difference-between-a-batch-and-an-epoch/"
   ]
  },
  {
   "cell_type": "markdown",
   "metadata": {},
   "source": [
    "1.问题描述\n",
    "在本教程中我们将要研究的问题是波士顿房价数据集。\n",
    "\n",
    "您可以下载此数据集并将其直接保存到您当前的工作中，文件名为housing.csv（更新：从这里下载数据）。\n",
    "\n",
    "该数据集描述了波士顿郊区房屋的 13 个数值属性，并致力于对这些郊区房屋的价格进行建模（以千美元为单位）。因此，这是一个回归预测建模问题。输入属性包括犯罪率、非零售商业用地面积比例、化学物质浓度等。\n",
    "\n",
    "这是机器学习中一个研究得很好的问题。它使用起来很方便，因为所有输入和输出属性都是数字，并且有 506 个实例可供使用。\n",
    "\n",
    "使用均方误差 (MSE) 评估的模型的合理性能约为 20 千美元的平方（如果取平方根则为 4,500 美元）。这是我们神经网络模型的一个不错目标。"
   ]
  },
  {
   "cell_type": "code",
   "execution_count": 2,
   "metadata": {},
   "outputs": [],
   "source": [
    "import pandas as pd\n",
    "from tensorflow.keras.models import Sequential\n",
    "from tensorflow.keras.layers import Dense\n",
    "# from scikeras.wrappers import KerasRegressor\n",
    "from sklearn.model_selection import cross_val_score\n",
    "from sklearn.model_selection import KFold\n",
    "from sklearn.preprocessing import StandardScaler\n",
    "from sklearn.pipeline import Pipeline\n"
   ]
  },
  {
   "cell_type": "code",
   "execution_count": 3,
   "metadata": {},
   "outputs": [
    {
     "name": "stderr",
     "output_type": "stream",
     "text": [
      "C:\\Users\\Administrator\\AppData\\Local\\Temp\\ipykernel_16300\\1516238202.py:2: FutureWarning: The 'delim_whitespace' keyword in pd.read_csv is deprecated and will be removed in a future version. Use ``sep='\\s+'`` instead\n",
      "  dataframe = pd.read_csv(\"../data/housing.csv\", delim_whitespace=True, header=None)\n"
     ]
    }
   ],
   "source": [
    "# load dataset\n",
    "dataframe = pd.read_csv(\"../data/housing.csv\", delim_whitespace=True, header=None)\n",
    "dataset = dataframe.values\n",
    "# split into input (X) and output (Y) variables\n",
    "X = dataset[:,0:13]\n",
    "Y = dataset[:,13]"
   ]
  },
  {
   "cell_type": "code",
   "execution_count": 5,
   "metadata": {},
   "outputs": [],
   "source": [
    "...\n",
    "# define base model\n",
    "\n",
    "\n",
    "def baseline_model():\n",
    " # create model\n",
    " model = Sequential()\n",
    " model.add(Dense(13, input_shape=(13,),\n",
    "           kernel_initializer='normal', activation='relu'))\n",
    " model.add(Dense(1, kernel_initializer='normal'))\n",
    " # Compile model\n",
    " model.compile(loss='mean_squared_error', optimizer='adam')\n",
    " return model\n"
   ]
  },
  {
   "cell_type": "code",
   "execution_count": null,
   "metadata": {},
   "outputs": [],
   "source": []
  }
 ],
 "metadata": {
  "kernelspec": {
   "display_name": "Python 3.11.8 ('ai')",
   "language": "python",
   "name": "python3"
  },
  "language_info": {
   "codemirror_mode": {
    "name": "ipython",
    "version": 3
   },
   "file_extension": ".py",
   "mimetype": "text/x-python",
   "name": "python",
   "nbconvert_exporter": "python",
   "pygments_lexer": "ipython3",
   "version": "3.11.8"
  },
  "orig_nbformat": 4,
  "vscode": {
   "interpreter": {
    "hash": "16b5ba8b0fc2955b30e9dcc40d80a15055b56bf6ee36ea534159a7d87da288cf"
   }
  }
 },
 "nbformat": 4,
 "nbformat_minor": 2
}
